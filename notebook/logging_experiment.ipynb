{
 "cells": [
  {
   "cell_type": "code",
   "execution_count": 1,
   "id": "b55d1b51",
   "metadata": {},
   "outputs": [
    {
     "name": "stdout",
     "output_type": "stream",
     "text": [
      "all ok\n"
     ]
    }
   ],
   "source": [
    "print(\"all ok\")"
   ]
  },
  {
   "cell_type": "code",
   "execution_count": 3,
   "id": "1ef1e101",
   "metadata": {},
   "outputs": [],
   "source": [
    "import logging \n",
    "import os \n",
    "from datetime import datetime "
   ]
  },
  {
   "cell_type": "code",
   "execution_count": 4,
   "id": "d2b266e6",
   "metadata": {},
   "outputs": [],
   "source": [
    "logs_dir=os.path.join(os.getcwd(),\"logs\")"
   ]
  },
  {
   "cell_type": "code",
   "execution_count": 5,
   "id": "b1061822",
   "metadata": {},
   "outputs": [],
   "source": [
    "os.makedirs(logs_dir,exist_ok=True)"
   ]
  },
  {
   "cell_type": "code",
   "execution_count": 7,
   "id": "e0f82f23",
   "metadata": {},
   "outputs": [],
   "source": [
    "LOG_FILE = f\"{datetime.now().strftime('%m_%d_%Y_%H_%M_%S')}.log\""
   ]
  },
  {
   "cell_type": "code",
   "execution_count": 8,
   "id": "b05b6bfd",
   "metadata": {},
   "outputs": [
    {
     "data": {
      "text/plain": [
       "'07_26_2025_05_19_59.log'"
      ]
     },
     "execution_count": 8,
     "metadata": {},
     "output_type": "execute_result"
    }
   ],
   "source": [
    "#this is a log file (name of the log file wouls be current data and time)\n",
    "LOG_FILE"
   ]
  },
  {
   "cell_type": "code",
   "execution_count": 9,
   "id": "a7eb8a29",
   "metadata": {},
   "outputs": [
    {
     "data": {
      "text/plain": [
       "'07_26_2025_05_19_59.log'"
      ]
     },
     "execution_count": 9,
     "metadata": {},
     "output_type": "execute_result"
    }
   ],
   "source": [
    "LOG_FILE"
   ]
  },
  {
   "cell_type": "code",
   "execution_count": 15,
   "id": "f0b0497f",
   "metadata": {},
   "outputs": [],
   "source": [
    "#today\n",
    "# with today's date log file will be creted\n",
    "\n",
    "#tomorrow\n",
    "# with tomorrow's date log file will be created"
   ]
  },
  {
   "cell_type": "code",
   "execution_count": 11,
   "id": "d9258f45",
   "metadata": {},
   "outputs": [],
   "source": [
    "LOG_FILE_PATH=os.path.join(logs_dir, LOG_FILE)"
   ]
  },
  {
   "cell_type": "code",
   "execution_count": 12,
   "id": "a17421fc",
   "metadata": {},
   "outputs": [],
   "source": [
    "logging.basicConfig(\n",
    "    filename=LOG_FILE_PATH,\n",
    "    format=\"[ %(asctime)s ] %(levelname)s %(name)s (line:%(lineno)d) - %(message)s\",\n",
    "    level=logging.INFO,\n",
    ")"
   ]
  },
  {
   "cell_type": "code",
   "execution_count": 13,
   "id": "cad0c9ef",
   "metadata": {},
   "outputs": [],
   "source": [
    "logger=logging.getLogger(\"DocumentPortal\")"
   ]
  },
  {
   "cell_type": "code",
   "execution_count": 14,
   "id": "e1987eae",
   "metadata": {},
   "outputs": [],
   "source": [
    "logger.info(\"This is an info message\")"
   ]
  },
  {
   "cell_type": "code",
   "execution_count": 16,
   "id": "f9d96a1c",
   "metadata": {},
   "outputs": [],
   "source": [
    "## python concept or python basics shoule clear"
   ]
  },
  {
   "cell_type": "code",
   "execution_count": 17,
   "id": "4a69b5da",
   "metadata": {},
   "outputs": [],
   "source": [
    "import structlog\n",
    "log=structlog.get_logger()"
   ]
  },
  {
   "cell_type": "code",
   "execution_count": 18,
   "id": "89da6ed4",
   "metadata": {},
   "outputs": [
    {
     "name": "stdout",
     "output_type": "stream",
     "text": [
      "\u001b[2m2025-07-26 07:20:00\u001b[0m [\u001b[32m\u001b[1minfo     \u001b[0m] \u001b[1mUser uploaded a file          \u001b[0m \u001b[36mfilename\u001b[0m=\u001b[35mreport.pdf\u001b[0m \u001b[36muser_id\u001b[0m=\u001b[35m123\u001b[0m\n"
     ]
    }
   ],
   "source": [
    "log.info(\"User uploaded a file\", user_id=123, filename=\"report.pdf\")"
   ]
  },
  {
   "cell_type": "code",
   "execution_count": 19,
   "id": "89b9f656",
   "metadata": {},
   "outputs": [
    {
     "name": "stdout",
     "output_type": "stream",
     "text": [
      "\u001b[2m2025-07-26 07:20:15\u001b[0m [\u001b[31m\u001b[1merror    \u001b[0m] \u001b[1mFailed to process PDF         \u001b[0m \u001b[36merror\u001b[0m=\u001b[35m'File not found'\u001b[0m \u001b[36muser_id\u001b[0m=\u001b[35m123\u001b[0m\n"
     ]
    }
   ],
   "source": [
    "log.error(\"Failed to process PDF\", error=\"File not found\", user_id=123)"
   ]
  },
  {
   "cell_type": "code",
   "execution_count": null,
   "id": "993e7d3a",
   "metadata": {},
   "outputs": [],
   "source": []
  }
 ],
 "metadata": {
  "kernelspec": {
   "display_name": "Python 3",
   "language": "python",
   "name": "python3"
  },
  "language_info": {
   "codemirror_mode": {
    "name": "ipython",
    "version": 3
   },
   "file_extension": ".py",
   "mimetype": "text/x-python",
   "name": "python",
   "nbconvert_exporter": "python",
   "pygments_lexer": "ipython3",
   "version": "3.10.18"
  }
 },
 "nbformat": 4,
 "nbformat_minor": 5
}
